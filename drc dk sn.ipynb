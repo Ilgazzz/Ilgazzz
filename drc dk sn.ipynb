{
 "cells": [
  {
   "cell_type": "code",
   "execution_count": 2,
   "metadata": {},
   "outputs": [],
   "source": [
    "def saniye(derece, dakika, saniye):\n",
    "    return saniye + dakika * 60 + derece * 3600"
   ]
  },
  {
   "cell_type": "code",
   "execution_count": 3,
   "metadata": {},
   "outputs": [],
   "source": [
    "def derece(saniye):\n",
    "    dk = saniye // 60\n",
    "    if dk >= 60:\n",
    "        drc = dk // 60\n",
    "        dk = dk % 60\n",
    "    sn = saniye - (dk * 60) - (drc * 3600)\n",
    "    return str(drc) + \" \" + str(dk) + \" \" + str(sn)\n",
    "    \n",
    "\n"
   ]
  },
  {
   "cell_type": "code",
   "execution_count": 6,
   "metadata": {},
   "outputs": [
    {
     "name": "stdout",
     "output_type": "stream",
     "text": [
      "138 23 14\n"
     ]
    }
   ],
   "source": [
    "a = saniye(65,48,23)\n",
    "tümler = 90 * 3600 - a\n",
    "bütünler = 180 * 3600 - a\n",
    "print(derece(tümler + bütünler))"
   ]
  }
 ],
 "metadata": {
  "kernelspec": {
   "display_name": "Python 3.10.6 64-bit",
   "language": "python",
   "name": "python3"
  },
  "language_info": {
   "codemirror_mode": {
    "name": "ipython",
    "version": 3
   },
   "file_extension": ".py",
   "mimetype": "text/x-python",
   "name": "python",
   "nbconvert_exporter": "python",
   "pygments_lexer": "ipython3",
   "version": "3.10.6"
  },
  "orig_nbformat": 4,
  "vscode": {
   "interpreter": {
    "hash": "298bae9ab02ed713fcae5f92baae8acd2fd21cbd9a1a2c3333c22331f3d94de3"
   }
  }
 },
 "nbformat": 4,
 "nbformat_minor": 2
}
